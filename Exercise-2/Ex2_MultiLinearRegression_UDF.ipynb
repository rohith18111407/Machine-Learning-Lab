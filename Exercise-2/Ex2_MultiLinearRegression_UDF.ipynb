{
  "cells": [
    {
      "cell_type": "markdown",
      "metadata": {
        "id": "k5v-nZJMbMBf"
      },
      "source": [
        "# Multi Linear Regression"
      ]
    },
    {
      "cell_type": "code",
      "execution_count": null,
      "metadata": {
        "id": "UYj4aLYSbMBg"
      },
      "outputs": [],
      "source": [
        "import pandas as pd\n",
        "import matplotlib.pyplot as plt\n",
        "import numpy as np"
      ]
    },
    {
      "cell_type": "code",
      "execution_count": null,
      "metadata": {
        "id": "6lbP20hJbMBh",
        "outputId": "f27d7b15-20c9-4864-ba25-b5f98512d0d6"
      },
      "outputs": [
        {
          "data": {
            "text/html": [
              "<div>\n",
              "<style scoped>\n",
              "    .dataframe tbody tr th:only-of-type {\n",
              "        vertical-align: middle;\n",
              "    }\n",
              "\n",
              "    .dataframe tbody tr th {\n",
              "        vertical-align: top;\n",
              "    }\n",
              "\n",
              "    .dataframe thead th {\n",
              "        text-align: right;\n",
              "    }\n",
              "</style>\n",
              "<table border=\"1\" class=\"dataframe\">\n",
              "  <thead>\n",
              "    <tr style=\"text-align: right;\">\n",
              "      <th></th>\n",
              "      <th>Age</th>\n",
              "      <th>Loan Amount Request (USD)</th>\n",
              "      <th>Credit Score</th>\n",
              "      <th>Co-Applicant</th>\n",
              "      <th>Loan Sanction Amount (USD)</th>\n",
              "    </tr>\n",
              "  </thead>\n",
              "  <tbody>\n",
              "    <tr>\n",
              "      <th>0</th>\n",
              "      <td>56</td>\n",
              "      <td>72809.58</td>\n",
              "      <td>809.44</td>\n",
              "      <td>1</td>\n",
              "      <td>54607.18</td>\n",
              "    </tr>\n",
              "    <tr>\n",
              "      <th>1</th>\n",
              "      <td>32</td>\n",
              "      <td>46837.47</td>\n",
              "      <td>780.40</td>\n",
              "      <td>1</td>\n",
              "      <td>37469.98</td>\n",
              "    </tr>\n",
              "    <tr>\n",
              "      <th>2</th>\n",
              "      <td>65</td>\n",
              "      <td>45593.04</td>\n",
              "      <td>833.15</td>\n",
              "      <td>0</td>\n",
              "      <td>36474.43</td>\n",
              "    </tr>\n",
              "    <tr>\n",
              "      <th>3</th>\n",
              "      <td>65</td>\n",
              "      <td>80057.92</td>\n",
              "      <td>832.70</td>\n",
              "      <td>1</td>\n",
              "      <td>56040.54</td>\n",
              "    </tr>\n",
              "    <tr>\n",
              "      <th>4</th>\n",
              "      <td>31</td>\n",
              "      <td>113858.89</td>\n",
              "      <td>745.55</td>\n",
              "      <td>1</td>\n",
              "      <td>74008.28</td>\n",
              "    </tr>\n",
              "  </tbody>\n",
              "</table>\n",
              "</div>"
            ],
            "text/plain": [
              "   Age  Loan Amount Request (USD)  Credit Score  Co-Applicant  \\\n",
              "0   56                   72809.58        809.44             1   \n",
              "1   32                   46837.47        780.40             1   \n",
              "2   65                   45593.04        833.15             0   \n",
              "3   65                   80057.92        832.70             1   \n",
              "4   31                  113858.89        745.55             1   \n",
              "\n",
              "   Loan Sanction Amount (USD)  \n",
              "0                    54607.18  \n",
              "1                    37469.98  \n",
              "2                    36474.43  \n",
              "3                    56040.54  \n",
              "4                    74008.28  "
            ]
          },
          "execution_count": 27,
          "metadata": {},
          "output_type": "execute_result"
        }
      ],
      "source": [
        "features = ['Age', 'Loan Amount Request (USD)', 'Credit Score', 'Co-Applicant']\n",
        "label = 'Loan Sanction Amount (USD)'\n",
        "\n",
        "column_names = features\n",
        "column_names.append(label)\n",
        "df = pd.read_csv('data/train.csv', usecols=column_names)\n",
        "df.head()"
      ]
    },
    {
      "cell_type": "code",
      "execution_count": null,
      "metadata": {
        "id": "ky_KPxTJbMBi",
        "outputId": "f8876658-a527-4ce5-99b9-72d7e0921f6d"
      },
      "outputs": [
        {
          "name": "stdout",
          "output_type": "stream",
          "text": [
            "(30000, 5)\n"
          ]
        },
        {
          "data": {
            "image/png": "[encoded data removed]",
            "text/plain": [
              "<Figure size 640x480 with 1 Axes>"
            ]
          },
          "metadata": {},
          "output_type": "display_data"
        }
      ],
      "source": [
        "print(df.shape)\n",
        "plt.hist(df['Loan Sanction Amount (USD)'],color='blue',)\n",
        "plt.hist(df['Loan Amount Request (USD)'],color='red', alpha=0.7)\n",
        "plt.show()"
      ]
    },
    {
      "cell_type": "code",
      "execution_count": null,
      "metadata": {
        "id": "eEwTmyrLbMBi"
      },
      "outputs": [],
      "source": [
        "df.dropna(inplace=True)"
      ]
    },
    {
      "cell_type": "markdown",
      "metadata": {
        "id": "CNQXM5EPbMBi"
      },
      "source": [
        "![image.png](attachment:image.png)"
      ]
    },
    {
      "cell_type": "markdown",
      "metadata": {
        "id": "rPoKtdq4bMBi"
      },
      "source": [
        "![image.png](attachment:image.png)"
      ]
    },
    {
      "cell_type": "code",
      "execution_count": null,
      "metadata": {
        "id": "J9WGcg2zbMBi"
      },
      "outputs": [],
      "source": [
        "class MultiLinearRegressionV4:\n",
        "    def fit(self, df, features, label):\n",
        "        x1 = np.ones((df.shape[0], 1))\n",
        "        x2 = np.array(df[features[0]]).reshape(-1, 1)\n",
        "        x3 = np.array(df[features[1]]).reshape(-1, 1)\n",
        "        x4 = np.array(df[features[2]]).reshape(-1, 1)\n",
        "        x5 = np.array(df[features[3]]).reshape(-1, 1)\n",
        "\n",
        "        X = np.hstack((x1, x2, x3, x4, x5))\n",
        "        XTX = np.dot(X.T, X)\n",
        "\n",
        "        self.coefficients = np.dot(np.dot(np.linalg.inv(XTX), X.T), df[label])\n",
        "        return self.coefficients\n",
        "\n",
        "    def predict(self, features):\n",
        "        testData = features.values\n",
        "        return self.coefficients[0] + testData[0] * self.coefficients[1] + testData[1] * self.coefficients[2] + testData[2] * self.coefficients[3] + testData[3] * self.coefficients[4]\n"
      ]
    },
    {
      "cell_type": "code",
      "execution_count": null,
      "metadata": {
        "id": "yoYE6R3XbMBi",
        "outputId": "9b61ca40-80dc-45e6-8210-c405119879f5"
      },
      "outputs": [
        {
          "name": "stdout",
          "output_type": "stream",
          "text": [
            "Prediction: 37996.91509871707\n",
            "Actual Value:  36474.43\n",
            "Difference:  -1522.485098717072\n"
          ]
        }
      ],
      "source": [
        "MLR = MultiLinearRegressionV4()\n",
        "\n",
        "\n",
        "val = 2\n",
        "model = MLR.fit(df, features, label)\n",
        "prediction = MLR.predict(df[features].iloc[val])\n",
        "\n",
        "print(\"Prediction:\", prediction)\n",
        "print(\"Actual Value: \", df[label][val])\n",
        "print(\"Difference: \", df[label][val] - prediction)"
      ]
    },
    {
      "cell_type": "markdown",
      "metadata": {
        "id": "_-c4MJC0bMBi"
      },
      "source": [
        "Lower values of MAE, MSE, and RMSE indicate better performance."
      ]
    },
    {
      "cell_type": "code",
      "execution_count": null,
      "metadata": {
        "id": "wmixLRB1bMBi",
        "outputId": "a33d5eb6-e6a0-4fa7-f816-15895a0e854f"
      },
      "outputs": [
        {
          "name": "stdout",
          "output_type": "stream",
          "text": [
            "Mean Absolute Error (MAE): 21917.007647669183\n",
            "Mean Squared Error (MSE): 984490091.1651338\n",
            "Root Mean Squared Error (RMSE): 31376.585078130058\n"
          ]
        }
      ],
      "source": [
        "from sklearn.metrics import mean_absolute_error, mean_squared_error\n",
        "\n",
        "# Calculate predictions for all data points\n",
        "predictions = df.apply(lambda row: MLR.predict(row[features]), axis=1)\n",
        "\n",
        "# Calculate Mean Absolute Error (MAE)\n",
        "mae = mean_absolute_error(df[label], predictions)\n",
        "print(\"Mean Absolute Error (MAE):\", mae)\n",
        "\n",
        "# Calculate Mean Squared Error (MSE)\n",
        "mse = mean_squared_error(df[label], predictions)\n",
        "print(\"Mean Squared Error (MSE):\", mse)\n",
        "\n",
        "# Calculate Root Mean Squared Error (RMSE)\n",
        "rmse = np.sqrt(mse)\n",
        "print(\"Root Mean Squared Error (RMSE):\", rmse)\n"
      ]
    }
  ],
  "metadata": {
    "kernelspec": {
      "display_name": "Python 3",
      "language": "python",
      "name": "python3"
    },
    "language_info": {
      "codemirror_mode": {
        "name": "ipython",
        "version": 3
      },
      "file_extension": ".py",
      "mimetype": "text/x-python",
      "name": "python",
      "nbconvert_exporter": "python",
      "pygments_lexer": "ipython3",
      "version": "3.10.12"
    },
    "colab": {
      "provenance": []
    }
  },
  "nbformat": 4,
  "nbformat_minor": 0
}